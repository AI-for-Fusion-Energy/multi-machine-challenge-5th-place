{
 "cells": [
  {
   "cell_type": "code",
   "execution_count": 1,
   "metadata": {},
   "outputs": [],
   "source": [
    "import os\n",
    "import glob\n",
    "from tqdm.auto import tqdm\n",
    "import shutil\n",
    "import zipfile\n",
    "import patoolib\n",
    "\n",
    "import numpy as np\n",
    "\n",
    "import utils"
   ]
  },
  {
   "cell_type": "code",
   "execution_count": 2,
   "metadata": {},
   "outputs": [],
   "source": [
    "models_path = './best_models'\n",
    "files_path = './processed_data'\n",
    "\n",
    "\n",
    "os.makedirs(models_path, exist_ok=True)\n",
    "os.makedirs(files_path, exist_ok=True)"
   ]
  },
  {
   "cell_type": "code",
   "execution_count": 3,
   "metadata": {},
   "outputs": [],
   "source": [
    "class CFG:\n",
    "    V = 'FINAL_MMD_JT_HL_CM'\n",
    "    Vh = 'FINAL_MMD_HL'\n",
    "    Vj = 'FINAL_MMD_JT'\n",
    "    Vc = 'FINAL_MMD_CM'\n",
    "\n",
    "    sub_no = 1\n",
    "    note=\"Data Preprocessing and modelling for JTEXT, CMOD & HL_2A\""
   ]
  },
  {
   "cell_type": "markdown",
   "metadata": {},
   "source": [
    "### PREPROCESS TRAINING & TESTING DATA"
   ]
  },
  {
   "cell_type": "code",
   "execution_count": 4,
   "metadata": {},
   "outputs": [
    {
     "name": "stdout",
     "output_type": "stream",
     "text": [
      "patool: Extracting ../HL-2A data/HL-2A_Data.rar ...\n",
      "patool: running \"C:\\Program Files\\WinRAR\\rar.EXE\" x -- \"c:\\Users\\ISAAC.E.SIAW-DARKO\\Desktop\\Competition Projects\\Multi-Machine Disruption Prediction Challenge for Fusion Energy by ITU\\submission_files\\best_submission\\HL-2A data\\HL-2A_Data.rar\"\n",
      "patool:     with cwd=\"../HL-2A data/\", creationflags=134217728\n",
      "patool: ... ../HL-2A data/HL-2A_Data.rar extracted to `../HL-2A data/'.\n"
     ]
    },
    {
     "data": {
      "text/plain": [
       "'../HL-2A data/'"
      ]
     },
     "execution_count": 4,
     "metadata": {},
     "output_type": "execute_result"
    }
   ],
   "source": [
    "with zipfile.ZipFile(\"../C-Mod_data.zip\", 'r') as zip_ref:\n",
    "    zip_ref.extractall('../')\n",
    "\n",
    "with zipfile.ZipFile('../HL-2A_data.zip', 'r') as zip_ref:\n",
    "    zip_ref.extractall('../')\n",
    "\n",
    "with zipfile.ZipFile('../J-TEXT_data.zip', 'r') as zip_ref:\n",
    "    zip_ref.extractall('../')\n",
    "\n",
    "with zipfile.ZipFile('../J-TEXT data/data.zip', 'r') as zip_ref:\n",
    "    zip_ref.extractall('../J-TEXT data/')\n",
    "    \n",
    "patoolib.extract_archive('../HL-2A data/HL-2A_Data.rar', outdir='../HL-2A data/')"
   ]
  },
  {
   "cell_type": "code",
   "execution_count": 5,
   "metadata": {},
   "outputs": [],
   "source": [
    "source_jtext = \"../jtext_train_repo\"\n",
    "source_cmod = \"../training_repo\"\n",
    "source_hl_2a = \"../hl_2a_train_repo\"\n",
    "\n",
    "test_source = \"../testing_repo\""
   ]
  },
  {
   "cell_type": "code",
   "execution_count": 6,
   "metadata": {},
   "outputs": [],
   "source": [
    "#1. set up the empty dirs\n",
    "\n",
    "os.makedirs(source_cmod , exist_ok=True)\n",
    "os.makedirs(test_source , exist_ok=True)\n",
    "os.makedirs(source_jtext , exist_ok=True)\n",
    "os.makedirs(source_hl_2a , exist_ok=True)"
   ]
  },
  {
   "cell_type": "code",
   "execution_count": 7,
   "metadata": {},
   "outputs": [],
   "source": [
    "#2.use glob get all the paths to all shots\n",
    "\n",
    "c_mod_train_paths = glob.glob('../cmod/CMod_train/*/*')\n",
    "jtext_paths = glob.glob('../J-TEXT data/processed_data_1k_5k_final/*/*')\n",
    "hl_2a_paths = glob.glob('../HL-2A data/JDDB_repo_2A_5k/*')\n",
    "\n",
    "c_mod_test_paths = glob.glob('../cmod/CMod_evaluate_20_10_2023/*/*')"
   ]
  },
  {
   "cell_type": "code",
   "execution_count": 8,
   "metadata": {},
   "outputs": [
    {
     "data": {
      "application/vnd.jupyter.widget-view+json": {
       "model_id": "56b94f0fc4e14ee7b805e586354239b6",
       "version_major": 2,
       "version_minor": 0
      },
      "text/plain": [
       "  0%|          | 0/20 [00:00<?, ?it/s]"
      ]
     },
     "metadata": {},
     "output_type": "display_data"
    },
    {
     "data": {
      "application/vnd.jupyter.widget-view+json": {
       "model_id": "566d525d78724967835f4ccdd6bd7f57",
       "version_major": 2,
       "version_minor": 0
      },
      "text/plain": [
       "  0%|          | 0/413 [00:00<?, ?it/s]"
      ]
     },
     "metadata": {},
     "output_type": "display_data"
    },
    {
     "data": {
      "application/vnd.jupyter.widget-view+json": {
       "model_id": "d526e71f45ce40208d9ce5a4e5e8d867",
       "version_major": 2,
       "version_minor": 0
      },
      "text/plain": [
       "  0%|          | 0/2136 [00:00<?, ?it/s]"
      ]
     },
     "metadata": {},
     "output_type": "display_data"
    },
    {
     "data": {
      "application/vnd.jupyter.widget-view+json": {
       "model_id": "1cc3a8d40b1b4912bf6e87147c6335d5",
       "version_major": 2,
       "version_minor": 0
      },
      "text/plain": [
       "  0%|          | 0/975 [00:00<?, ?it/s]"
      ]
     },
     "metadata": {},
     "output_type": "display_data"
    }
   ],
   "source": [
    "# ##3. backlash works weirdly in python so inorder to use it within our loop function we put in a variable. and set our shutil.move loop\n",
    "c = \"\\\\\"\n",
    "[shutil.move(path , f\"{source_cmod}/{path.split(c)[-1]}\") for path in tqdm(c_mod_train_paths)]\n",
    "\n",
    "[shutil.move(path , f\"{test_source}/{path.split(c)[-1]}\") for path in tqdm(c_mod_test_paths)]\n",
    "\n",
    "[shutil.move(path , f\"{source_jtext}/{path.split(c)[-1]}\" ) for path in tqdm(jtext_paths)]\n",
    "\n",
    "[shutil.move(path , f\"{source_hl_2a}/{path.split(c)[-1]}\"  ) for path in tqdm(hl_2a_paths)]\n",
    "\n",
    "pass"
   ]
  },
  {
   "cell_type": "code",
   "execution_count": 9,
   "metadata": {},
   "outputs": [],
   "source": [
    "jtext_repo = utils.open_repo(source_jtext)\n",
    "cmod_repo = utils.open_repo(source_cmod)\n",
    "hl_2a_repo = utils.open_repo(source_hl_2a)\n",
    "\n",
    "jtext_shot_list = jtext_repo.get_all_shots()\n",
    "cmod_shot_list = cmod_repo.get_all_shots()\n",
    "hl_2a_shot_list = hl_2a_repo.get_all_shots()\n",
    "\n",
    "test_repo = utils.open_repo(test_source)\n",
    "test_shot_list = test_repo.get_all_shots()"
   ]
  },
  {
   "cell_type": "code",
   "execution_count": 10,
   "metadata": {},
   "outputs": [
    {
     "data": {
      "application/vnd.jupyter.widget-view+json": {
       "model_id": "255ce48af79d4f4dae185830765726f8",
       "version_major": 2,
       "version_minor": 0
      },
      "text/plain": [
       "  0%|          | 0/20 [00:00<?, ?it/s]"
      ]
     },
     "metadata": {},
     "output_type": "display_data"
    },
    {
     "data": {
      "application/vnd.jupyter.widget-view+json": {
       "model_id": "33971ef01e2d47078f03c13a1fc60161",
       "version_major": 2,
       "version_minor": 0
      },
      "text/plain": [
       "  0%|          | 0/975 [00:00<?, ?it/s]"
      ]
     },
     "metadata": {},
     "output_type": "display_data"
    },
    {
     "name": "stderr",
     "output_type": "stream",
     "text": [
      "c:\\Users\\ISAAC.E.SIAW-DARKO\\Desktop\\Competition Projects\\Multi-Machine Disruption Prediction Challenge for Fusion Energy by ITU\\submission_files\\best_submission\\WolfPack\\utils.py:73: RuntimeWarning: overflow encountered in square\n",
      "  train_df_dict = {i : [np.square(df[v][i]).sum() for v in range(df.shape[0])] for i in range(df.shape[1])}\n",
      "c:\\Users\\ISAAC.E.SIAW-DARKO\\Desktop\\Competition Projects\\Multi-Machine Disruption Prediction Challenge for Fusion Energy by ITU\\submission_files\\best_submission\\WolfPack\\utils.py:73: RuntimeWarning: overflow encountered in square\n",
      "  train_df_dict = {i : [np.square(df[v][i]).sum() for v in range(df.shape[0])] for i in range(df.shape[1])}\n",
      "c:\\Users\\ISAAC.E.SIAW-DARKO\\Desktop\\Competition Projects\\Multi-Machine Disruption Prediction Challenge for Fusion Energy by ITU\\submission_files\\best_submission\\WolfPack\\utils.py:73: RuntimeWarning: overflow encountered in square\n",
      "  train_df_dict = {i : [np.square(df[v][i]).sum() for v in range(df.shape[0])] for i in range(df.shape[1])}\n",
      "c:\\Users\\ISAAC.E.SIAW-DARKO\\Desktop\\Competition Projects\\Multi-Machine Disruption Prediction Challenge for Fusion Energy by ITU\\submission_files\\best_submission\\WolfPack\\utils.py:73: RuntimeWarning: overflow encountered in square\n",
      "  train_df_dict = {i : [np.square(df[v][i]).sum() for v in range(df.shape[0])] for i in range(df.shape[1])}\n",
      "c:\\Users\\ISAAC.E.SIAW-DARKO\\Desktop\\Competition Projects\\Multi-Machine Disruption Prediction Challenge for Fusion Energy by ITU\\submission_files\\best_submission\\WolfPack\\utils.py:73: RuntimeWarning: overflow encountered in square\n",
      "  train_df_dict = {i : [np.square(df[v][i]).sum() for v in range(df.shape[0])] for i in range(df.shape[1])}\n",
      "c:\\Users\\ISAAC.E.SIAW-DARKO\\Desktop\\Competition Projects\\Multi-Machine Disruption Prediction Challenge for Fusion Energy by ITU\\submission_files\\best_submission\\WolfPack\\utils.py:73: RuntimeWarning: overflow encountered in square\n",
      "  train_df_dict = {i : [np.square(df[v][i]).sum() for v in range(df.shape[0])] for i in range(df.shape[1])}\n",
      "c:\\Users\\ISAAC.E.SIAW-DARKO\\Desktop\\Competition Projects\\Multi-Machine Disruption Prediction Challenge for Fusion Energy by ITU\\submission_files\\best_submission\\WolfPack\\utils.py:73: RuntimeWarning: overflow encountered in square\n",
      "  train_df_dict = {i : [np.square(df[v][i]).sum() for v in range(df.shape[0])] for i in range(df.shape[1])}\n"
     ]
    },
    {
     "data": {
      "application/vnd.jupyter.widget-view+json": {
       "model_id": "00f8b786287943d989079c41fda8e18c",
       "version_major": 2,
       "version_minor": 0
      },
      "text/plain": [
       "  0%|          | 0/2136 [00:00<?, ?it/s]"
      ]
     },
     "metadata": {},
     "output_type": "display_data"
    }
   ],
   "source": [
    "train_x_cmod_df , train_y_cmod_df = utils.rebuild_train_files(cmod_repo , cmod_shot_list)\n",
    "train_x_hl_2a_df , train_y_hl_2a_df = utils.rebuild_train_files(hl_2a_repo , hl_2a_shot_list)\n",
    "train_x_jtext_df , train_y_jtext_df = utils.rebuild_train_files(jtext_repo , jtext_shot_list)"
   ]
  },
  {
   "cell_type": "code",
   "execution_count": 11,
   "metadata": {},
   "outputs": [
    {
     "data": {
      "application/vnd.jupyter.widget-view+json": {
       "model_id": "9576b0b6c0fd41dc9e8e67cd60b38a68",
       "version_major": 2,
       "version_minor": 0
      },
      "text/plain": [
       "  0%|          | 0/413 [00:00<?, ?it/s]"
      ]
     },
     "metadata": {},
     "output_type": "display_data"
    }
   ],
   "source": [
    "test_x_cmod_df = utils.rebuild_test_files(test_repo , test_shot_list)"
   ]
  },
  {
   "cell_type": "code",
   "execution_count": 12,
   "metadata": {},
   "outputs": [
    {
     "data": {
      "text/plain": [
       "((2136, 90), (975, 86), (20, 173), (413, 198))"
      ]
     },
     "execution_count": 12,
     "metadata": {},
     "output_type": "execute_result"
    }
   ],
   "source": [
    "train_x_jtext_df.shape, train_x_hl_2a_df.shape, train_x_cmod_df.shape, test_x_cmod_df.shape"
   ]
  },
  {
   "cell_type": "code",
   "execution_count": 13,
   "metadata": {},
   "outputs": [
    {
     "data": {
      "text/html": [
       "<div>\n",
       "<style scoped>\n",
       "    .dataframe tbody tr th:only-of-type {\n",
       "        vertical-align: middle;\n",
       "    }\n",
       "\n",
       "    .dataframe tbody tr th {\n",
       "        vertical-align: top;\n",
       "    }\n",
       "\n",
       "    .dataframe thead th {\n",
       "        text-align: right;\n",
       "    }\n",
       "</style>\n",
       "<table border=\"1\" class=\"dataframe\">\n",
       "  <thead>\n",
       "    <tr style=\"text-align: right;\">\n",
       "      <th></th>\n",
       "      <th>AXUV_CA_02</th>\n",
       "      <th>AXUV_CA_06</th>\n",
       "      <th>AXUV_CA_10</th>\n",
       "      <th>AXUV_CA_14</th>\n",
       "      <th>AXUV_CB_18</th>\n",
       "      <th>AXUV_CB_22</th>\n",
       "      <th>AXUV_CB_26</th>\n",
       "      <th>AXUV_CB_30</th>\n",
       "      <th>AXUV_CE_66</th>\n",
       "      <th>AXUV_CE_70</th>\n",
       "      <th>...</th>\n",
       "      <th>sxr_cc_054</th>\n",
       "      <th>sxr_cc_055</th>\n",
       "      <th>sxr_cc_056</th>\n",
       "      <th>sxr_cc_057</th>\n",
       "      <th>sxr_cc_058</th>\n",
       "      <th>sxr_cc_059</th>\n",
       "      <th>sxr_cc_060</th>\n",
       "      <th>vl</th>\n",
       "      <th>vs_c3_aa018</th>\n",
       "      <th>Shot_list</th>\n",
       "    </tr>\n",
       "  </thead>\n",
       "  <tbody>\n",
       "    <tr>\n",
       "      <th>0</th>\n",
       "      <td>183.357883</td>\n",
       "      <td>154.619660</td>\n",
       "      <td>264.436769</td>\n",
       "      <td>34.200124</td>\n",
       "      <td>111.495991</td>\n",
       "      <td>95.853351</td>\n",
       "      <td>105.852292</td>\n",
       "      <td>2.509004</td>\n",
       "      <td>64.391372</td>\n",
       "      <td>46.066482</td>\n",
       "      <td>...</td>\n",
       "      <td>32.249536</td>\n",
       "      <td>20.939290</td>\n",
       "      <td>12.044595</td>\n",
       "      <td>6.843564</td>\n",
       "      <td>3.927831</td>\n",
       "      <td>2.247210</td>\n",
       "      <td>1.118488</td>\n",
       "      <td>1538.897392</td>\n",
       "      <td>82.681080</td>\n",
       "      <td>ID_1051461</td>\n",
       "    </tr>\n",
       "    <tr>\n",
       "      <th>1</th>\n",
       "      <td>0.004404</td>\n",
       "      <td>0.006311</td>\n",
       "      <td>0.007499</td>\n",
       "      <td>0.015826</td>\n",
       "      <td>0.001124</td>\n",
       "      <td>0.008660</td>\n",
       "      <td>0.017694</td>\n",
       "      <td>0.013897</td>\n",
       "      <td>0.005216</td>\n",
       "      <td>0.003189</td>\n",
       "      <td>...</td>\n",
       "      <td>75.704091</td>\n",
       "      <td>53.885599</td>\n",
       "      <td>33.088334</td>\n",
       "      <td>18.919968</td>\n",
       "      <td>11.068707</td>\n",
       "      <td>6.267908</td>\n",
       "      <td>3.297584</td>\n",
       "      <td>1676.810338</td>\n",
       "      <td>39.770722</td>\n",
       "      <td>ID_1051499</td>\n",
       "    </tr>\n",
       "  </tbody>\n",
       "</table>\n",
       "<p>2 rows × 90 columns</p>\n",
       "</div>"
      ],
      "text/plain": [
       "   AXUV_CA_02  AXUV_CA_06  AXUV_CA_10  AXUV_CA_14  AXUV_CB_18  AXUV_CB_22  \\\n",
       "0  183.357883  154.619660  264.436769   34.200124  111.495991   95.853351   \n",
       "1    0.004404    0.006311    0.007499    0.015826    0.001124    0.008660   \n",
       "\n",
       "   AXUV_CB_26  AXUV_CB_30  AXUV_CE_66  AXUV_CE_70  ...  sxr_cc_054  \\\n",
       "0  105.852292    2.509004   64.391372   46.066482  ...   32.249536   \n",
       "1    0.017694    0.013897    0.005216    0.003189  ...   75.704091   \n",
       "\n",
       "   sxr_cc_055  sxr_cc_056  sxr_cc_057  sxr_cc_058  sxr_cc_059  sxr_cc_060  \\\n",
       "0   20.939290   12.044595    6.843564    3.927831    2.247210    1.118488   \n",
       "1   53.885599   33.088334   18.919968   11.068707    6.267908    3.297584   \n",
       "\n",
       "            vl  vs_c3_aa018   Shot_list  \n",
       "0  1538.897392    82.681080  ID_1051461  \n",
       "1  1676.810338    39.770722  ID_1051499  \n",
       "\n",
       "[2 rows x 90 columns]"
      ]
     },
     "execution_count": 13,
     "metadata": {},
     "output_type": "execute_result"
    }
   ],
   "source": [
    "train_x_jtext_df.head(2)"
   ]
  },
  {
   "cell_type": "code",
   "execution_count": 14,
   "metadata": {},
   "outputs": [
    {
     "data": {
      "text/html": [
       "<div>\n",
       "<style scoped>\n",
       "    .dataframe tbody tr th:only-of-type {\n",
       "        vertical-align: middle;\n",
       "    }\n",
       "\n",
       "    .dataframe tbody tr th {\n",
       "        vertical-align: top;\n",
       "    }\n",
       "\n",
       "    .dataframe thead th {\n",
       "        text-align: right;\n",
       "    }\n",
       "</style>\n",
       "<table border=\"1\" class=\"dataframe\">\n",
       "  <thead>\n",
       "    <tr style=\"text-align: right;\">\n",
       "      <th></th>\n",
       "      <th>CCO-DF:DENSITY1</th>\n",
       "      <th>CCO-DF:GASFBOUT</th>\n",
       "      <th>CCO-LFB:LFBBOH</th>\n",
       "      <th>CCO-LFB:LFBBT</th>\n",
       "      <th>CCO-LFB:LFBBV</th>\n",
       "      <th>CCO-LFB:LFBIRF</th>\n",
       "      <th>CCO-LFB:LFBMP1</th>\n",
       "      <th>CCO-LFB:LFBMP2</th>\n",
       "      <th>CCO-LFB:LFDH</th>\n",
       "      <th>CCO-LFB:LFDV</th>\n",
       "      <th>...</th>\n",
       "      <th>EFIT_q95</th>\n",
       "      <th>Ip_Error</th>\n",
       "      <th>RadiatedFraction</th>\n",
       "      <th>RotatingModeProxy</th>\n",
       "      <th>Shot_list</th>\n",
       "      <th>DS-FIR:FIR-SPH1A</th>\n",
       "      <th>DS-FIR:FIR-SPH2A</th>\n",
       "      <th>DS-FIR:FIR-SPH3A</th>\n",
       "      <th>DS-FIR:FIR-SPH4A</th>\n",
       "      <th>GW_Ratio</th>\n",
       "    </tr>\n",
       "  </thead>\n",
       "  <tbody>\n",
       "    <tr>\n",
       "      <th>0</th>\n",
       "      <td>63.195060</td>\n",
       "      <td>0.0</td>\n",
       "      <td>340196.753949</td>\n",
       "      <td>751269.061201</td>\n",
       "      <td>175834.331855</td>\n",
       "      <td>0.032328</td>\n",
       "      <td>0.299856</td>\n",
       "      <td>1.468048</td>\n",
       "      <td>1243.871699</td>\n",
       "      <td>19891.112859</td>\n",
       "      <td>...</td>\n",
       "      <td>28661.196061</td>\n",
       "      <td>28402.208371</td>\n",
       "      <td>2.529730e+08</td>\n",
       "      <td>0.035446</td>\n",
       "      <td>ID_35956</td>\n",
       "      <td>NaN</td>\n",
       "      <td>NaN</td>\n",
       "      <td>NaN</td>\n",
       "      <td>NaN</td>\n",
       "      <td>NaN</td>\n",
       "    </tr>\n",
       "    <tr>\n",
       "      <th>1</th>\n",
       "      <td>64.531645</td>\n",
       "      <td>0.0</td>\n",
       "      <td>311237.954988</td>\n",
       "      <td>754187.159239</td>\n",
       "      <td>171480.249900</td>\n",
       "      <td>0.041957</td>\n",
       "      <td>0.254372</td>\n",
       "      <td>0.675082</td>\n",
       "      <td>1446.225730</td>\n",
       "      <td>20278.368004</td>\n",
       "      <td>...</td>\n",
       "      <td>30456.294527</td>\n",
       "      <td>30957.379469</td>\n",
       "      <td>1.170411e+09</td>\n",
       "      <td>0.028053</td>\n",
       "      <td>ID_35957</td>\n",
       "      <td>NaN</td>\n",
       "      <td>NaN</td>\n",
       "      <td>NaN</td>\n",
       "      <td>NaN</td>\n",
       "      <td>NaN</td>\n",
       "    </tr>\n",
       "  </tbody>\n",
       "</table>\n",
       "<p>2 rows × 86 columns</p>\n",
       "</div>"
      ],
      "text/plain": [
       "   CCO-DF:DENSITY1  CCO-DF:GASFBOUT  CCO-LFB:LFBBOH  CCO-LFB:LFBBT  \\\n",
       "0        63.195060              0.0   340196.753949  751269.061201   \n",
       "1        64.531645              0.0   311237.954988  754187.159239   \n",
       "\n",
       "   CCO-LFB:LFBBV  CCO-LFB:LFBIRF  CCO-LFB:LFBMP1  CCO-LFB:LFBMP2  \\\n",
       "0  175834.331855        0.032328        0.299856        1.468048   \n",
       "1  171480.249900        0.041957        0.254372        0.675082   \n",
       "\n",
       "   CCO-LFB:LFDH  CCO-LFB:LFDV  ...      EFIT_q95      Ip_Error  \\\n",
       "0   1243.871699  19891.112859  ...  28661.196061  28402.208371   \n",
       "1   1446.225730  20278.368004  ...  30456.294527  30957.379469   \n",
       "\n",
       "   RadiatedFraction  RotatingModeProxy  Shot_list  DS-FIR:FIR-SPH1A  \\\n",
       "0      2.529730e+08           0.035446   ID_35956               NaN   \n",
       "1      1.170411e+09           0.028053   ID_35957               NaN   \n",
       "\n",
       "   DS-FIR:FIR-SPH2A  DS-FIR:FIR-SPH3A  DS-FIR:FIR-SPH4A  GW_Ratio  \n",
       "0               NaN               NaN               NaN       NaN  \n",
       "1               NaN               NaN               NaN       NaN  \n",
       "\n",
       "[2 rows x 86 columns]"
      ]
     },
     "execution_count": 14,
     "metadata": {},
     "output_type": "execute_result"
    }
   ],
   "source": [
    "train_x_hl_2a_df.head(2)"
   ]
  },
  {
   "cell_type": "code",
   "execution_count": 15,
   "metadata": {},
   "outputs": [
    {
     "data": {
      "text/html": [
       "<div>\n",
       "<style scoped>\n",
       "    .dataframe tbody tr th:only-of-type {\n",
       "        vertical-align: middle;\n",
       "    }\n",
       "\n",
       "    .dataframe tbody tr th {\n",
       "        vertical-align: top;\n",
       "    }\n",
       "\n",
       "    .dataframe thead th {\n",
       "        text-align: right;\n",
       "    }\n",
       "</style>\n",
       "<table border=\"1\" class=\"dataframe\">\n",
       "  <thead>\n",
       "    <tr style=\"text-align: right;\">\n",
       "      <th></th>\n",
       "      <th>.tci.results:nl_04</th>\n",
       "      <th>Greenwald_fraction</th>\n",
       "      <th>\\AXA.chord_1</th>\n",
       "      <th>\\AXA.chord_10</th>\n",
       "      <th>\\AXA.chord_11</th>\n",
       "      <th>\\AXA.chord_12</th>\n",
       "      <th>\\AXA.chord_13</th>\n",
       "      <th>\\AXA.chord_14</th>\n",
       "      <th>\\AXA.chord_15</th>\n",
       "      <th>\\AXA.chord_16</th>\n",
       "      <th>...</th>\n",
       "      <th>\\xtomo::top.brightnesses.array_3:chord_35</th>\n",
       "      <th>\\xtomo::top.brightnesses.array_3:chord_36</th>\n",
       "      <th>\\xtomo::top.brightnesses.array_3:chord_37</th>\n",
       "      <th>\\xtomo::top.brightnesses.array_3:chord_38</th>\n",
       "      <th>ip_err_frac</th>\n",
       "      <th>n1_norm</th>\n",
       "      <th>radiated_frac</th>\n",
       "      <th>rotating_mode</th>\n",
       "      <th>time_until_disrupt</th>\n",
       "      <th>Shot_list</th>\n",
       "    </tr>\n",
       "  </thead>\n",
       "  <tbody>\n",
       "    <tr>\n",
       "      <th>0</th>\n",
       "      <td>5.326269e+42</td>\n",
       "      <td>65.373447</td>\n",
       "      <td>1.912998e+11</td>\n",
       "      <td>1.135554e+14</td>\n",
       "      <td>1.567546e+14</td>\n",
       "      <td>2.091652e+14</td>\n",
       "      <td>2.726298e+14</td>\n",
       "      <td>3.262958e+14</td>\n",
       "      <td>3.490044e+14</td>\n",
       "      <td>3.690343e+14</td>\n",
       "      <td>...</td>\n",
       "      <td>4.526109e+07</td>\n",
       "      <td>4.610338e+07</td>\n",
       "      <td>2.937596e+07</td>\n",
       "      <td>2.845743e+06</td>\n",
       "      <td>7.470543</td>\n",
       "      <td>0.001752</td>\n",
       "      <td>1177.011085</td>\n",
       "      <td>114.241099</td>\n",
       "      <td>0.0</td>\n",
       "      <td>ID_1120104019</td>\n",
       "    </tr>\n",
       "    <tr>\n",
       "      <th>1</th>\n",
       "      <td>2.616991e+38</td>\n",
       "      <td>0.002250</td>\n",
       "      <td>1.223206e+11</td>\n",
       "      <td>3.294500e+13</td>\n",
       "      <td>4.329573e+13</td>\n",
       "      <td>5.542801e+13</td>\n",
       "      <td>6.992380e+13</td>\n",
       "      <td>8.104123e+13</td>\n",
       "      <td>8.971919e+13</td>\n",
       "      <td>1.045243e+14</td>\n",
       "      <td>...</td>\n",
       "      <td>3.499170e+07</td>\n",
       "      <td>2.434394e+07</td>\n",
       "      <td>2.797387e+07</td>\n",
       "      <td>1.986765e+06</td>\n",
       "      <td>7.325798</td>\n",
       "      <td>0.002196</td>\n",
       "      <td>792.232679</td>\n",
       "      <td>118.411473</td>\n",
       "      <td>0.0</td>\n",
       "      <td>ID_1120117013</td>\n",
       "    </tr>\n",
       "  </tbody>\n",
       "</table>\n",
       "<p>2 rows × 173 columns</p>\n",
       "</div>"
      ],
      "text/plain": [
       "   .tci.results:nl_04  Greenwald_fraction  \\AXA.chord_1  \\AXA.chord_10  \\\n",
       "0        5.326269e+42           65.373447  1.912998e+11   1.135554e+14   \n",
       "1        2.616991e+38            0.002250  1.223206e+11   3.294500e+13   \n",
       "\n",
       "   \\AXA.chord_11  \\AXA.chord_12  \\AXA.chord_13  \\AXA.chord_14  \\AXA.chord_15  \\\n",
       "0   1.567546e+14   2.091652e+14   2.726298e+14   3.262958e+14   3.490044e+14   \n",
       "1   4.329573e+13   5.542801e+13   6.992380e+13   8.104123e+13   8.971919e+13   \n",
       "\n",
       "   \\AXA.chord_16  ...  \\xtomo::top.brightnesses.array_3:chord_35  \\\n",
       "0   3.690343e+14  ...                               4.526109e+07   \n",
       "1   1.045243e+14  ...                               3.499170e+07   \n",
       "\n",
       "   \\xtomo::top.brightnesses.array_3:chord_36  \\\n",
       "0                               4.610338e+07   \n",
       "1                               2.434394e+07   \n",
       "\n",
       "   \\xtomo::top.brightnesses.array_3:chord_37  \\\n",
       "0                               2.937596e+07   \n",
       "1                               2.797387e+07   \n",
       "\n",
       "   \\xtomo::top.brightnesses.array_3:chord_38  ip_err_frac   n1_norm  \\\n",
       "0                               2.845743e+06     7.470543  0.001752   \n",
       "1                               1.986765e+06     7.325798  0.002196   \n",
       "\n",
       "   radiated_frac  rotating_mode  time_until_disrupt      Shot_list  \n",
       "0    1177.011085     114.241099                 0.0  ID_1120104019  \n",
       "1     792.232679     118.411473                 0.0  ID_1120117013  \n",
       "\n",
       "[2 rows x 173 columns]"
      ]
     },
     "execution_count": 15,
     "metadata": {},
     "output_type": "execute_result"
    }
   ],
   "source": [
    "train_x_cmod_df.head(2)"
   ]
  },
  {
   "cell_type": "markdown",
   "metadata": {},
   "source": [
    "CMOD RENAMING"
   ]
  },
  {
   "cell_type": "code",
   "execution_count": 16,
   "metadata": {},
   "outputs": [
    {
     "name": "stdout",
     "output_type": "stream",
     "text": [
      "112 112 (20, 173) (413, 198)\n"
     ]
    }
   ],
   "source": [
    "Diagnostics = \"plasma current,toroidal magnetic field,horizontal displacement,vertical displacement,line integral density(center chord),C3 radiation,loop voltage,AXUV_01,AXUV_02,AXUV_03,AXUV_04,AXUV_05,AXUV_06,AXUV_07,AXUV_08,AXUV_09,AXUV_10,AXUV_11,AXUV_12,AXUV_13,AXUV_14,AXUV_15,AXUV_16,AXUV_17,AXUV_18,AXUV_19,AXUV_20,AXUV_21,AXUV_22,soft-X-ray_01,soft-X-ray_02,soft-X-ray_03,soft-X-ray_04,soft-X-ray_05,soft-X-ray_06,soft-X-ray_07,soft-X-ray_08,soft-X-ray_09,soft-X-ray_10,soft-X-ray_11,soft-X-ray_12,soft-X-ray_13,soft-X-ray_14,soft-X-ray_15,soft-X-ray_16,soft-X-ray_17,soft-X-ray_18,soft-X-ray_19,soft-X-ray_20,soft-X-ray_21,soft-X-ray_22,soft-X-ray_23,soft-X-ray_24,soft-X-ray_25,soft-X-ray_26,soft-X-ray_27,soft-X-ray_28,soft-X-ray_29,soft-X-ray_30,soft-X-ray_31,soft-X-ray_32,soft-X-ray_33,soft-X-ray_34,soft-X-ray_35,soft-X-ray_36,soft-X-ray_37,soft-X-ray_38,poloidal Mirnov probes_01,poloidal Mirnov probes_02,poloidal Mirnov probes_03,poloidal Mirnov probes_04,poloidal Mirnov probes_05,poloidal Mirnov probes_06,poloidal Mirnov probes_07,poloidal Mirnov probes_08,poloidal Mirnov probes_09,poloidal Mirnov probes_10,poloidal Mirnov probes_11,poloidal Mirnov probes_12,poloidal Mirnov probes_13,poloidal Mirnov probes_14,poloidal Mirnov probes_15,poloidal Mirnov probes_16,poloidal Mirnov probes_17,poloidal Mirnov probes_18,toroidal Mirnov probes_01,toroidal Mirnov probes_02,toroidal Mirnov probes_03,toroidal Mirnov probes_04,toroidal Mirnov probes_05,toroidal Mirnov probes_06,toroidal Mirnov probes_07,toroidal Mirnov probes_09,toroidal Mirnov probes_10,Density_Measurement1,Density_Measurement2,Density_Measurement3,Density_Measurement4,Greenwald fraction,LM proxy,q95 proxy,IP error fraction,Radiation fraction,Rotating mode proxy,unknown_BP_KA_TOP,unknown_BP_EF_TOP,unknown_BP_KA_BOT,unknown_aminor,unknown_betan,unknown_kappa,unknown_li,unknown_wplasm\".replace(' ','_').replace('-', '_').lower().split(',')\n",
    "cmod_feats =[\"\\\\ip\", \"\\\\btor\", '\\\\efit_aeqdsk:rmagx', '\\\\efit_aeqdsk:zmagx', '.tci.results:nl_04','\\\\twopi_diode', '\\\\efit_aeqdsk:vloopt','\\\\AXA.chord_1 & \\\\AXJ.chord_1', '\\\\AXA.chord_2 & \\\\AXJ.chord_2', '\\\\AXA.chord_3 & \\\\AXJ.chord_3', '\\\\AXA.chord_4 & \\\\AXJ.chord_4', '\\\\AXA.chord_5 & \\\\AXJ.chord_5', '\\\\AXA.chord_6 & \\\\AXJ.chord_6', '\\\\AXA.chord_7 & \\\\AXJ.chord_7', '\\\\AXA.chord_8 & \\\\AXJ.chord_8', '\\\\AXA.chord_9 & \\\\AXJ.chord_9', '\\\\AXA.chord_10 & \\\\AXJ.chord_10', '\\\\AXA.chord_11 & \\\\AXJ.chord_11', '\\\\AXA.chord_12 & \\\\AXJ.chord_12', '\\\\AXA.chord_13 & \\\\AXJ.chord_13', '\\\\AXA.chord_14 & \\\\AXJ.chord_14', '\\\\AXA.chord_15 & \\\\AXJ.chord_15', '\\\\AXA.chord_16 & \\\\AXJ.chord_16', '\\\\AXA.chord_17 & \\\\AXJ.chord_17', '\\\\AXA.chord_18 & \\\\AXJ.chord_18', '\\\\AXA.chord_19 & \\\\AXJ.chord_19', '\\\\AXA.chord_20 & \\\\AXJ.chord_20', '\\\\AXA.chord_21 & \\\\AXJ.chord_21', '\\\\AXA.chord_22 & \\\\AXJ.chord_22','\\\\xtomo::top.brightnesses.array_1:chord_01 & \\\\xtomo::top.brightnesses.array_3:chord_01', '\\\\xtomo::top.brightnesses.array_1:chord_02 & \\\\xtomo::top.brightnesses.array_3:chord_02', '\\\\xtomo::top.brightnesses.array_1:chord_03 & \\\\xtomo::top.brightnesses.array_3:chord_03', '\\\\xtomo::top.brightnesses.array_1:chord_04 & \\\\xtomo::top.brightnesses.array_3:chord_04', '\\\\xtomo::top.brightnesses.array_1:chord_05 & \\\\xtomo::top.brightnesses.array_3:chord_05', '\\\\xtomo::top.brightnesses.array_1:chord_06 & \\\\xtomo::top.brightnesses.array_3:chord_06', '\\\\xtomo::top.brightnesses.array_1:chord_07 & \\\\xtomo::top.brightnesses.array_3:chord_07', '\\\\xtomo::top.brightnesses.array_1:chord_08 & \\\\xtomo::top.brightnesses.array_3:chord_08', '\\\\xtomo::top.brightnesses.array_1:chord_09 & \\\\xtomo::top.brightnesses.array_3:chord_09', '\\\\xtomo::top.brightnesses.array_1:chord_10 & \\\\xtomo::top.brightnesses.array_3:chord_10', '\\\\xtomo::top.brightnesses.array_1:chord_11 & \\\\xtomo::top.brightnesses.array_3:chord_11', '\\\\xtomo::top.brightnesses.array_1:chord_12 & \\\\xtomo::top.brightnesses.array_3:chord_12', '\\\\xtomo::top.brightnesses.array_1:chord_13 & \\\\xtomo::top.brightnesses.array_3:chord_13', '\\\\xtomo::top.brightnesses.array_1:chord_14 & \\\\xtomo::top.brightnesses.array_3:chord_14', '\\\\xtomo::top.brightnesses.array_1:chord_15 & \\\\xtomo::top.brightnesses.array_3:chord_15', '\\\\xtomo::top.brightnesses.array_1:chord_16 & \\\\xtomo::top.brightnesses.array_3:chord_16', '\\\\xtomo::top.brightnesses.array_1:chord_17 & \\\\xtomo::top.brightnesses.array_3:chord_17', '\\\\xtomo::top.brightnesses.array_1:chord_18 & \\\\xtomo::top.brightnesses.array_3:chord_18', '\\\\xtomo::top.brightnesses.array_1:chord_19 & \\\\xtomo::top.brightnesses.array_3:chord_19', '\\\\xtomo::top.brightnesses.array_1:chord_20 & \\\\xtomo::top.brightnesses.array_3:chord_20', '\\\\xtomo::top.brightnesses.array_1:chord_21 & \\\\xtomo::top.brightnesses.array_3:chord_21', '\\\\xtomo::top.brightnesses.array_1:chord_22 & \\\\xtomo::top.brightnesses.array_3:chord_22', '\\\\xtomo::top.brightnesses.array_1:chord_23 & \\\\xtomo::top.brightnesses.array_3:chord_23', '\\\\xtomo::top.brightnesses.array_1:chord_24 & \\\\xtomo::top.brightnesses.array_3:chord_24', '\\\\xtomo::top.brightnesses.array_1:chord_25 & \\\\xtomo::top.brightnesses.array_3:chord_25','\\\\xtomo::top.brightnesses.array_1:chord_26 & \\\\xtomo::top.brightnesses.array_3:chord_26', '\\\\xtomo::top.brightnesses.array_1:chord_27 & \\\\xtomo::top.brightnesses.array_3:chord_27', '\\\\xtomo::top.brightnesses.array_1:chord_28 & \\\\xtomo::top.brightnesses.array_3:chord_28', '\\\\xtomo::top.brightnesses.array_1:chord_29 & \\\\xtomo::top.brightnesses.array_3:chord_29', '\\\\xtomo::top.brightnesses.array_1:chord_30 & \\\\xtomo::top.brightnesses.array_3:chord_30', '\\\\xtomo::top.brightnesses.array_1:chord_31 & \\\\xtomo::top.brightnesses.array_3:chord_31', '\\\\xtomo::top.brightnesses.array_1:chord_32 & \\\\xtomo::top.brightnesses.array_3:chord_32', '\\\\xtomo::top.brightnesses.array_1:chord_33 & \\\\xtomo::top.brightnesses.array_3:chord_33', '\\\\xtomo::top.brightnesses.array_1:chord_34 & \\\\xtomo::top.brightnesses.array_3:chord_34', '\\\\xtomo::top.brightnesses.array_1:chord_35 & \\\\xtomo::top.brightnesses.array_3:chord_35', '\\\\xtomo::top.brightnesses.array_1:chord_36 & \\\\xtomo::top.brightnesses.array_3:chord_36', '\\\\xtomo::top.brightnesses.array_1:chord_37 & \\\\xtomo::top.brightnesses.array_3:chord_37', '\\\\xtomo::top.brightnesses.array_1:chord_38 & \\\\xtomo::top.brightnesses.array_3:chord_38', '\\\\MAGNETICS::TOP.ACTIVE_MHD.SIGNALS:BP01_ABK','\\\\MAGNETICS::TOP.ACTIVE_MHD.SIGNALS:BP02_ABK','\\\\MAGNETICS::TOP.ACTIVE_MHD.SIGNALS:BP02_GHK','\\\\MAGNETICS::TOP.ACTIVE_MHD.SIGNALS:BP03_ABK','\\\\MAGNETICS::TOP.ACTIVE_MHD.SIGNALS:BP04_ABK','\\\\MAGNETICS::TOP.ACTIVE_MHD.SIGNALS:BP04_GHK','\\\\MAGNETICS::TOP.ACTIVE_MHD.SIGNALS:BP05_ABK','\\\\MAGNETICS::TOP.ACTIVE_MHD.SIGNALS:BP05_GHK','\\\\MAGNETICS::TOP.ACTIVE_MHD.SIGNALS:BP06_ABK','\\\\MAGNETICS::TOP.ACTIVE_MHD.SIGNALS:BP06_GHK','\\\\MAGNETICS::TOP.ACTIVE_MHD.SIGNALS:BP07_ABK','\\\\MAGNETICS::TOP.ACTIVE_MHD.SIGNALS:BP07_GHK','\\\\MAGNETICS::TOP.ACTIVE_MHD.SIGNALS:BP08_GHK','\\\\MAGNETICS::TOP.ACTIVE_MHD.SIGNALS:BP10_GHK','\\\\MAGNETICS::TOP.ACTIVE_MHD.SIGNALS:BP11_GHK','\\\\MAGNETICS::TOP.ACTIVE_MHD.SIGNALS:BP12_GHK','\\\\MAGNETICS::TOP.ACTIVE_MHD.SIGNALS:BP13_GHK','\\\\MAGNETICS::TOP.ACTIVE_MHD.SIGNALS:BP14_GHK','\\\\MAGNETICS::TOP.ACTIVE_MHD.SIGNALS:BP08_ABK','\\\\MAGNETICS::TOP.ACTIVE_MHD.SIGNALS:BP09_ABK','\\\\MAGNETICS::TOP.ACTIVE_MHD.SIGNALS:BP1T_GHK','\\\\MAGNETICS::TOP.ACTIVE_MHD.SIGNALS:BP20_ABK','\\\\MAGNETICS::TOP.ACTIVE_MHD.SIGNALS:BP2T_GHK', '\\\\MAGNETICS::TOP.ACTIVE_MHD.SIGNALS:BP3T_GHK', '\\\\MAGNETICS::TOP.ACTIVE_MHD.SIGNALS:BP4T_ABK','\\\\MAGNETICS::TOP.ACTIVE_MHD.SIGNALS:BP5T_ABK', '\\\\MAGNETICS::TOP.ACTIVE_MHD.SIGNALS:BP6T_ABK','\\\\MAGNETICS::TOP.ACTIVE_MHD.SIGNALS:BP_AB_TOP', '\\\\MAGNETICS::TOP.ACTIVE_MHD.SIGNALS:BP_BC_BOT', '\\\\MAGNETICS::TOP.ACTIVE_MHD.SIGNALS:BP_BC_TOP', '\\\\MAGNETICS::TOP.ACTIVE_MHD.SIGNALS:BP_EF_BOT','Greenwald_fraction','n1_norm','\\\\efit_aeqdsk:q95','ip_err_frac',  'radiated_frac', 'rotating_mode' , '\\\\MAGNETICS::TOP.ACTIVE_MHD.SIGNALS:BP_KA_TOP','\\\\MAGNETICS::TOP.ACTIVE_MHD.SIGNALS:BP_EF_TOP', '\\\\MAGNETICS::TOP.ACTIVE_MHD.SIGNALS:BP_KA_BOT','\\\\efit_aeqdsk:aminor', '\\\\efit_aeqdsk:betan', '\\\\efit_aeqdsk:kappa', '\\\\efit_aeqdsk:li', '\\\\efit_aeqdsk:wplasm']\n",
    "shot_ids = [i for i in test_x_cmod_df['Shot_list'].values]\n",
    "\n",
    "print(len(Diagnostics) , len(cmod_feats), train_x_cmod_df.shape , test_x_cmod_df.shape)\n",
    "c = \"\\\\\"\n",
    "for i in range (22):\n",
    "    test_x_cmod_df[f'\\AXA.chord_{i+1} & \\AXJ.chord_{i+1}'] = test_x_cmod_df[f'\\AXA.chord_{i+1}']/ test_x_cmod_df[f'\\AXJ.chord_{i+1}']\n",
    "    train_x_cmod_df[f'\\AXA.chord_{i+1} & \\AXJ.chord_{i+1}'] = train_x_cmod_df[f'\\AXA.chord_{i+1}']/ train_x_cmod_df[f'\\AXJ.chord_{i+1}']\n",
    "\n",
    "for i in range (1 , 39):\n",
    "    if i<10:\n",
    "        test_x_cmod_df[f\"{c}xtomo::top.brightnesses.array_1:chord_0{i} & {c}xtomo::top.brightnesses.array_3:chord_0{i}\"] =  test_x_cmod_df[f'{c}xtomo::top.brightnesses.array_1:chord_0{i}']/ test_x_cmod_df[f'{c}xtomo::top.brightnesses.array_3:chord_0{i}']\n",
    "        train_x_cmod_df[f'{c}xtomo::top.brightnesses.array_1:chord_0{i} & {c}xtomo::top.brightnesses.array_3:chord_0{i}'] = train_x_cmod_df[f'{c}xtomo::top.brightnesses.array_1:chord_0{i}']/ train_x_cmod_df[f'{c}xtomo::top.brightnesses.array_3:chord_0{i}']\n",
    "    else:\n",
    "        test_x_cmod_df[f'{c}xtomo::top.brightnesses.array_1:chord_{i} & {c}xtomo::top.brightnesses.array_3:chord_{i}'] = test_x_cmod_df[f'{c}xtomo::top.brightnesses.array_1:chord_{i}']/ test_x_cmod_df[f'{c}xtomo::top.brightnesses.array_3:chord_{i}']\n",
    "        train_x_cmod_df[f'{c}xtomo::top.brightnesses.array_1:chord_{i} & {c}xtomo::top.brightnesses.array_3:chord_{i}'] = train_x_cmod_df[f'{c}xtomo::top.brightnesses.array_1:chord_{i}']/ train_x_cmod_df[f'{c}xtomo::top.brightnesses.array_3:chord_{i}']\n",
    "\n",
    "train_x_cmod_df[['\\\\MAGNETICS::TOP.ACTIVE_MHD.SIGNALS:BP01_ABK', '\\\\MAGNETICS::TOP.ACTIVE_MHD.SIGNALS:BP02_ABK', '\\\\MAGNETICS::TOP.ACTIVE_MHD.SIGNALS:BP03_ABK', '\\\\MAGNETICS::TOP.ACTIVE_MHD.SIGNALS:BP04_ABK', '\\\\MAGNETICS::TOP.ACTIVE_MHD.SIGNALS:BP05_ABK', '\\\\MAGNETICS::TOP.ACTIVE_MHD.SIGNALS:BP06_ABK', '\\\\MAGNETICS::TOP.ACTIVE_MHD.SIGNALS:BP09_ABK']]= np.NaN\n",
    "\n",
    "\n",
    "# # rename jtext and hl_2a data features based on their equivalent c-mod selected minimal features \n",
    "\n",
    "train_x_cmod_df = train_x_cmod_df[cmod_feats].rename(columns = dict(zip(cmod_feats , Diagnostics)) )\n",
    "\n",
    "test_x_cmod_df = test_x_cmod_df[cmod_feats].rename(columns = dict(zip(cmod_feats , Diagnostics)) )\n",
    "\n",
    "train_y_cmod_df  = train_y_cmod_df.rename(columns={0:'Is_disrupt'})\n",
    "train_y_cmod_df = train_y_cmod_df.reset_index().drop('index' , axis=1)\n",
    "\n",
    "train_df_ = train_x_cmod_df\n",
    "train_df_['Is_disrupt'] = train_y_cmod_df['Is_disrupt'].astype(int)\n",
    "\n",
    "test_df_ = test_x_cmod_df\n",
    "test_df_['Shot_list'] = shot_ids \n",
    "\n",
    "train_df_.to_csv(f'{files_path}/{CFG.Vc}_processed_sum_feature_extraction_train.csv' , index=False)  #2404 observations\n",
    "test_df_.to_csv(f'{files_path}/{CFG.Vc}_processed_sum_feature_extraction_test.csv' , index=True)   #413 observations"
   ]
  },
  {
   "cell_type": "markdown",
   "metadata": {},
   "source": [
    "JTEXT RENAMING"
   ]
  },
  {
   "cell_type": "code",
   "execution_count": 17,
   "metadata": {},
   "outputs": [],
   "source": [
    "Diagnostics = \"plasma current,toroidal magnetic field,horizontal displacement,vertical displacement,line integral density(center chord),C3 radiation,loop voltage,AXUV_01,AXUV_02,AXUV_03,AXUV_04,AXUV_05,AXUV_06,AXUV_07,AXUV_08,AXUV_09,AXUV_10,AXUV_11,AXUV_12,AXUV_13,AXUV_14,AXUV_15,AXUV_16,AXUV_17,AXUV_18,AXUV_19,AXUV_20,AXUV_21,AXUV_22,soft-X-ray_01,soft-X-ray_02,soft-X-ray_03,soft-X-ray_04,soft-X-ray_05,soft-X-ray_06,soft-X-ray_07,soft-X-ray_08,soft-X-ray_09,soft-X-ray_10,soft-X-ray_11,soft-X-ray_12,soft-X-ray_13,soft-X-ray_14,soft-X-ray_15,soft-X-ray_16,soft-X-ray_17,soft-X-ray_18,soft-X-ray_19,soft-X-ray_20,soft-X-ray_21,soft-X-ray_22,soft-X-ray_23,soft-X-ray_24,soft-X-ray_25,soft-X-ray_26,soft-X-ray_27,soft-X-ray_28,soft-X-ray_29,soft-X-ray_30,soft-X-ray_31,soft-X-ray_32,soft-X-ray_33,soft-X-ray_34,soft-X-ray_35,soft-X-ray_36,soft-X-ray_37,soft-X-ray_38,poloidal Mirnov probes_01,poloidal Mirnov probes_02,poloidal Mirnov probes_03,poloidal Mirnov probes_04,poloidal Mirnov probes_05,poloidal Mirnov probes_06,poloidal Mirnov probes_07,poloidal Mirnov probes_08,poloidal Mirnov probes_09,poloidal Mirnov probes_10,poloidal Mirnov probes_11,poloidal Mirnov probes_12,toroidal Mirnov probes_01,toroidal Mirnov probes_02,Greenwald fraction,LM proxy,q95 proxy,IP error fraction,Radiation fraction,Rotating mode proxy\".replace(' ','_').replace('-', '_').lower().split(',')\n",
    "jtext_feats = \"ip,bt,dx,dy,polaris_den_v09,vs_c3_aa018,vl,AXUV_CA_02,AXUV_CA_06,AXUV_CA_10,AXUV_CA_14,AXUV_CB_18,AXUV_CB_22,AXUV_CB_26,AXUV_CB_30,AXUV_CE_66,AXUV_CE_70,AXUV_CE_74,AXUV_CE_78,AXUV_CF_82,AXUV_CF_86,AXUV_CF_90,AXUV_CF_94,AXUV_CF_95,AXUV_CF_96,AXUV_CF_97,AXUV_CF_98,AXUV_CF_99,AXUV_CF_100,sxr_cb_020,sxr_cb_021,sxr_cb_022,sxr_cb_023,sxr_cb_024,sxr_cb_025,sxr_cb_026,sxr_cb_027,sxr_cb_028,sxr_cb_032,sxr_cb_036,sxr_cb_037,sxr_cb_038,sxr_cb_039,sxr_cb_040,sxr_cb_041,sxr_cb_042,sxr_cb_043,sxr_cb_044,sxr_cc_036,sxr_cc_037,sxr_cc_038,sxr_cc_039,sxr_cc_040,sxr_cc_041,sxr_cc_042,sxr_cc_043,sxr_cc_044,sxr_cc_052,sxr_cc_053,sxr_cc_054,sxr_cc_055,sxr_cc_056,sxr_cc_057,sxr_cc_058,sxr_cc_059,sxr_cc_060,sxr_cc_061,MA_POL_CA01T,MA_POL_CA03T,MA_POL_CA05T,MA_POL_CA07T,MA_POL_CA09T,MA_POL_CA11T,MA_POL_CA13T,MA_POL_CA15T,MA_POL_CA17T,MA_POL_CA19T,MA_POL_CA21T,MA_POL_CA23T,MA_TOR1_R01,MA_TOR1_R02,ne_nG,n = 1 amplitude,qa_proxy,ip_error,radiation_proxy,rotating_mode_proxy\".split(',')\n",
    "train_x_jtext_df[['AXUV_CF_95', 'AXUV_CF_96', 'AXUV_CF_97', 'AXUV_CF_98', 'AXUV_CF_99', 'AXUV_CF_100', 'sxr_cc_061', 'n = 1 amplitude']]=0\n",
    "train_x_jtext_df = train_x_jtext_df[jtext_feats].rename(columns = dict(zip(jtext_feats , Diagnostics)) )\n",
    "\n",
    "train_y_jtext_df  = train_y_jtext_df.rename(columns={0:'Is_disrupt'})\n",
    "train_y_jtext_df = train_y_jtext_df.reset_index().drop('index' , axis=1)\n",
    "\n",
    "train_df_ = train_x_jtext_df\n",
    "train_df_['Is_disrupt'] = train_y_jtext_df['Is_disrupt'].astype(int)\n",
    "\n",
    "train_df_.to_csv(f'{files_path}/{CFG.Vj}_processed_sum_feature_extraction_train.csv' , index=False)  #2404 observations\n"
   ]
  },
  {
   "cell_type": "markdown",
   "metadata": {},
   "source": [
    "HL_2A RENAMING"
   ]
  },
  {
   "cell_type": "code",
   "execution_count": 18,
   "metadata": {},
   "outputs": [],
   "source": [
    "Diagnostics = \"plasma current,toroidal magnetic field,horizontal displacement,vertical displacement,line integral density(center chord),C3 radiation,loop voltage,AXUV_01,AXUV_02,AXUV_03,AXUV_04,AXUV_05,AXUV_06,AXUV_07,AXUV_08,AXUV_09,AXUV_10,AXUV_11,AXUV_12,AXUV_13,AXUV_14,AXUV_15,AXUV_16,soft-X-ray_01,soft-X-ray_02,soft-X-ray_03,soft-X-ray_04,soft-X-ray_05,soft-X-ray_06,soft-X-ray_07,soft-X-ray_08,soft-X-ray_09,soft-X-ray_10,soft-X-ray_11,soft-X-ray_12,soft-X-ray_13,soft-X-ray_14,soft-X-ray_15,soft-X-ray_16,soft-X-ray_17,soft-X-ray_18,soft-X-ray_19,soft-X-ray_20,poloidal Mirnov probes_01,poloidal Mirnov probes_02,poloidal Mirnov probes_03,poloidal Mirnov probes_04,poloidal Mirnov probes_05,poloidal Mirnov probes_06,poloidal Mirnov probes_07,poloidal Mirnov probes_08,poloidal Mirnov probes_09,poloidal Mirnov probes_10,poloidal Mirnov probes_11,poloidal Mirnov probes_12,poloidal Mirnov probes_13,poloidal Mirnov probes_14,poloidal Mirnov probes_15,poloidal Mirnov probes_16,poloidal Mirnov probes_17,poloidal Mirnov probes_18,toroidal Mirnov probes_01,toroidal Mirnov probes_02,toroidal Mirnov probes_03,toroidal Mirnov probes_04,toroidal Mirnov probes_05,toroidal Mirnov probes_06,toroidal Mirnov probes_07,toroidal Mirnov probes_09,toroidal Mirnov probes_10,Density_Measurement1,Density_Measurement2,Density_Measurement3,Density_Measurement4,Greenwald fraction,LM proxy,q95 proxy,IP error fraction,Radiation fraction,Rotating mode proxy,unknown_LFBBOH,unknown_PUFFCTRL,unknown_LFBBV,unknown_LFBIRF,unknown_LFBMP1,unknown_LFBMP2\".replace(' ','_').replace('-', '_').lower().split(',')\n",
    "hl_2a_feats = \"CCO-LFB:LFEX-IP,CCO-LFB:LFBBT,CCO-LFB:LFDH,CCO-LFB:LFDV,CCO-DF:DENSITY1,CCO-DF:GASFBOUT,DS-EMD-ROG:VL-FILTER,DS-BM-AB:BOLD01,DS-BM-AB:BOLD02,DS-BM-AB:BOLD03,DS-BM-AB:BOLD04,DS-BM-AB:BOLD05,DS-BM-AB:BOLD06,DS-BM-AB:BOLD07,DS-BM-AB:BOLD08,DS-BM-AB:BOLD09,DS-BM-AB:BOLD10,DS-BM-AB:BOLD11,DS-BM-AB:BOLD12,DS-BM-AB:BOLD13,DS-BM-AB:BOLD14,DS-BM-AB:BOLD15,DS-BM-AB:BOLD16,DS-SXR-SXA:SX01,DS-SXR-SXA:SX02,DS-SXR-SXA:SX03,DS-SXR-SXA:SX04,DS-SXR-SXA:SX05,DS-SXR-SXA:SX06,DS-SXR-SXA:SX07,DS-SXR-SXA:SX08,DS-SXR-SXA:SX09,DS-SXR-SXA:SX10,DS-SXR-SXA:SX11,DS-SXR-SXA:SX12,DS-SXR-SXA:SX13,DS-SXR-SXA:SX14,DS-SXR-SXA:SX15,DS-SXR-SXA:SX16,DS-SXR-SXA:SX17,DS-SXR-SXA:SX18,DS-SXR-SXA:SX19,DS-SXR-SXA:SX20,DS-EMD-MP:MPOL-01,DS-EMD-MP:MPOL-02,DS-EMD-MP:MPOL-03,DS-EMD-MP:MPOL-04,DS-EMD-MP:MPOL-05,DS-EMD-MP:MPOL-06,DS-EMD-MP:MPOL-07,DS-EMD-MP:MPOL-08,DS-EMD-MP:MPOL-09,DS-EMD-MP:MPOL-10,DS-EMD-MP:MPOL-11,DS-EMD-MP:MPOL-12,DS-EMD-MP:MPOL-13,DS-EMD-MP:MPOL-14,DS-EMD-MP:MPOL-15,DS-EMD-MP:MPOL-16,DS-EMD-MP:MPOL-17,DS-EMD-MP:MPOL-18,DS-EMD-MP:NPOL-01,DS-EMD-MP:NPOL-02,DS-EMD-MP:NPOL-03,DS-EMD-MP:NPOL-04,DS-EMD-MP:NPOL-05,DS-EMD-MP:NPOL-06,DS-EMD-MP:NPOL-07,DS-EMD-MP:NPOL-09,DS-EMD-MP:NPOL-10,DS-FIR:FIR-SPH1A,DS-FIR:FIR-SPH2A,DS-FIR:FIR-SPH3A,DS-FIR:FIR-SPH4A,GW_Ratio,n1_norm,EFIT_q95,Ip_Error,RadiatedFraction,RotatingModeProxy,CCO-LFB:LFBBOH,DS-TMP:PUFFCTRL,CCO-LFB:LFBBV,CCO-LFB:LFBIRF,CCO-LFB:LFBMP1,CCO-LFB:LFBMP2\".split(\",\")\n",
    "\n",
    "train_x_hl_2a_df['n1_norm'] = 0\n",
    "train_x_hl_2a_df = train_x_hl_2a_df[hl_2a_feats].rename(columns = dict(zip(hl_2a_feats , Diagnostics)) )\n",
    "\n",
    "train_y_hl_2a_df  = train_y_hl_2a_df.rename(columns={0:'Is_disrupt'})\n",
    "train_y_hl_2a_df = train_y_hl_2a_df.reset_index().drop('index' , axis=1)\n",
    "\n",
    "train_df_ = train_x_hl_2a_df\n",
    "train_df_['Is_disrupt'] = train_y_hl_2a_df['Is_disrupt'].astype(int)\n",
    "\n",
    "train_df_.to_csv(f'{files_path}/{CFG.Vh}_processed_sum_feature_extraction_train.csv' , index=False)  #2404 observations\n"
   ]
  },
  {
   "cell_type": "markdown",
   "metadata": {},
   "source": [
    "### Modelling\n",
    "\n",
    "Blend of xgboost and Catboost with equal ratios"
   ]
  },
  {
   "cell_type": "code",
   "execution_count": 19,
   "metadata": {},
   "outputs": [],
   "source": [
    "import xgboost as xgb\n",
    "import catboost as catb\n",
    "\n",
    "\n",
    "import sklearn.preprocessing as preprocess\n",
    "import sklearn.model_selection as model_selection\n",
    "import sklearn.metrics as metrics\n",
    "from tqdm.auto import tqdm\n",
    "import pandas as pd\n",
    "import joblib\n"
   ]
  },
  {
   "cell_type": "code",
   "execution_count": 20,
   "metadata": {},
   "outputs": [],
   "source": [
    "train_cmod_df = pd.read_csv(f'{files_path}/{CFG.Vc}_processed_sum_feature_extraction_train.csv')\n",
    "train_jtext_df = pd.read_csv(f'{files_path}/{CFG.Vj}_processed_sum_feature_extraction_train.csv')\n",
    "train_hl_2a_df = pd.read_csv(f'{files_path}/{CFG.Vh}_processed_sum_feature_extraction_train.csv')\n",
    "\n",
    "test_cmod_df = pd.read_csv(f'{files_path}/{CFG.Vc}_processed_sum_feature_extraction_test.csv')"
   ]
  },
  {
   "cell_type": "code",
   "execution_count": 21,
   "metadata": {},
   "outputs": [],
   "source": [
    "train_df = pd.concat([train_cmod_df , train_jtext_df , train_hl_2a_df])"
   ]
  },
  {
   "cell_type": "code",
   "execution_count": 22,
   "metadata": {},
   "outputs": [],
   "source": [
    "train_df['programmed_plasma_current'] = train_df['plasma_current'] - train_df['ip_error_fraction']\n",
    "test_cmod_df['programmed_plasma_current'] = test_cmod_df['plasma_current'] - test_cmod_df['ip_error_fraction']"
   ]
  },
  {
   "cell_type": "markdown",
   "metadata": {},
   "source": [
    "The following features diagnosis were not known and no information about existed within the ITU provided variable sheet but since they were also part of tags in the test cmod, they were selected for training and given the identifier \"unknown\"\n",
    "\n",
    "- unknown_bp_ka_top', 'unknown_bp_ef_top', 'unknown_bp_ka_bot', 'unknown_aminor', 'unknown_betan','unknown_kappa', 'unknown_li', 'unknown_wplasm'\n",
    "\n",
    " \n",
    "The following features diagnosis were not known and no information about existed within the ITU provided variable sheet and since they werent also part of tags in the test cmod, they were given the identifier \"unknown\" and were not selected for training.\n",
    "\n",
    "- 'unknown_lfbboh', 'unknown_puffctrl', 'unknown_lfbbv', 'unknown_lfbirf', 'unknown_lfbmp1'\n",
    "\n",
    "it should be noted that if the above is placed under their correct diagnosis which were part of the selected features, they would be a major improvemnt in the model performance"
   ]
  },
  {
   "cell_type": "code",
   "execution_count": 23,
   "metadata": {},
   "outputs": [],
   "source": [
    "feat_cols = ['plasma_current', 'toroidal_magnetic_field', 'horizontal_displacement', 'vertical_displacement', 'line_integral_density(center_chord)', 'c3_radiation',\n",
    " 'loop_voltage', 'axuv_01', 'axuv_02', 'axuv_03', 'axuv_04', 'axuv_05', 'axuv_06', 'axuv_07', 'axuv_08', 'axuv_09', 'axuv_10', 'axuv_11', 'axuv_12', 'axuv_13',\n",
    " 'axuv_14', 'axuv_15', 'axuv_16', 'axuv_17', 'axuv_18', 'axuv_19', 'axuv_20', 'axuv_21', 'axuv_22', 'soft_x_ray_01',\n",
    " 'soft_x_ray_02', 'soft_x_ray_03', 'soft_x_ray_04', 'soft_x_ray_05', 'soft_x_ray_06', 'soft_x_ray_07', 'soft_x_ray_08', 'soft_x_ray_09',\n",
    " 'soft_x_ray_10', 'soft_x_ray_11', 'soft_x_ray_12', 'soft_x_ray_13', 'soft_x_ray_14', 'soft_x_ray_15', 'soft_x_ray_16', 'soft_x_ray_17',\n",
    " 'soft_x_ray_18', 'soft_x_ray_19', 'soft_x_ray_20', 'soft_x_ray_21', 'soft_x_ray_22', 'soft_x_ray_23', 'soft_x_ray_24', 'soft_x_ray_25',\n",
    " 'soft_x_ray_26', 'soft_x_ray_27', 'soft_x_ray_28', 'soft_x_ray_29', 'soft_x_ray_30', 'soft_x_ray_31', 'soft_x_ray_32', 'soft_x_ray_33',\n",
    " 'soft_x_ray_34', 'soft_x_ray_35', 'soft_x_ray_36', 'soft_x_ray_37', 'soft_x_ray_38', 'poloidal_mirnov_probes_01', 'poloidal_mirnov_probes_02',\n",
    " 'poloidal_mirnov_probes_03', 'poloidal_mirnov_probes_04', 'poloidal_mirnov_probes_05', 'poloidal_mirnov_probes_06',\n",
    " 'poloidal_mirnov_probes_07', 'poloidal_mirnov_probes_08', 'poloidal_mirnov_probes_09', 'poloidal_mirnov_probes_10',\n",
    " 'poloidal_mirnov_probes_11', 'poloidal_mirnov_probes_12', 'poloidal_mirnov_probes_13', 'poloidal_mirnov_probes_14',\n",
    " 'poloidal_mirnov_probes_15', 'poloidal_mirnov_probes_16', 'poloidal_mirnov_probes_17', 'poloidal_mirnov_probes_18',\n",
    " 'toroidal_mirnov_probes_01', 'toroidal_mirnov_probes_02', 'toroidal_mirnov_probes_03', 'toroidal_mirnov_probes_04',\n",
    " 'toroidal_mirnov_probes_05', 'toroidal_mirnov_probes_06', 'toroidal_mirnov_probes_07', 'toroidal_mirnov_probes_09',\n",
    " 'toroidal_mirnov_probes_10', 'density_measurement1', 'density_measurement2', 'density_measurement3', 'density_measurement4', 'greenwald_fraction',\n",
    " 'lm_proxy', 'q95_proxy', 'ip_error_fraction', 'radiation_fraction', 'rotating_mode_proxy', 'unknown_bp_ka_top', 'unknown_bp_ef_top', 'unknown_bp_ka_bot', 'unknown_aminor', 'unknown_betan', 'unknown_kappa', 'unknown_li', 'unknown_wplasm',\n",
    " 'programmed_plasma_current']"
   ]
  },
  {
   "cell_type": "code",
   "execution_count": 24,
   "metadata": {},
   "outputs": [
    {
     "data": {
      "application/vnd.jupyter.widget-view+json": {
       "model_id": "710bd0d7c7eb483e840744e4e9a75b3e",
       "version_major": 2,
       "version_minor": 0
      },
      "text/plain": [
       "  0%|          | 0/1 [00:00<?, ?it/s]"
      ]
     },
     "metadata": {},
     "output_type": "display_data"
    },
    {
     "name": "stdout",
     "output_type": "stream",
     "text": [
      "0:\tlearn: 0.8789323\ttest: 0.9072165\tbest: 0.9072165 (0)\ttotal: 172ms\tremaining: 1h 54m 58s\n",
      "Stopped by overfitting detector  (1000 iterations wait)\n",
      "\n",
      "bestTest = 0.9644670051\n",
      "bestIteration = 674\n",
      "\n",
      "Shrink model to first 675 iterations.\n",
      "[0]\tvalidation_0-logloss:0.69124\n",
      "[1500]\tvalidation_0-logloss:0.11926\n",
      "Number of splits trained 1 \n",
      "log_loss: 0.10790344813582815 F1_score: 0.9654827720852577 acc_score: 0.9655172413793104 , recall: 0.9494949494949495\n",
      "0:\tlearn: 0.8835085\ttest: 0.8514851\tbest: 0.8514851 (0)\ttotal: 15.1ms\tremaining: 10m 4s\n",
      "Stopped by overfitting detector  (1000 iterations wait)\n",
      "\n",
      "bestTest = 0.9702970297\n",
      "bestIteration = 1549\n",
      "\n",
      "Shrink model to first 1550 iterations.\n",
      "[0]\tvalidation_0-logloss:0.69118\n",
      "[1500]\tvalidation_0-logloss:0.10661\n",
      "Number of splits trained 2 \n",
      "log_loss: 0.09905999776344732 F1_score: 0.9732521409096914 acc_score: 0.9731800766283525 , recall: 0.98\n",
      "0:\tlearn: 0.8801464\ttest: 0.8923077\tbest: 0.8923077 (0)\ttotal: 10.6ms\tremaining: 7m 3s\n",
      "Stopped by overfitting detector  (1000 iterations wait)\n",
      "\n",
      "bestTest = 0.9797979798\n",
      "bestIteration = 1095\n",
      "\n",
      "Shrink model to first 1096 iterations.\n",
      "[0]\tvalidation_0-logloss:0.69131\n",
      "[1500]\tvalidation_0-logloss:0.12819\n",
      "Number of splits trained 3 \n",
      "log_loss: 0.09654227288319847 F1_score: 0.9654138334971522 acc_score: 0.9655172413793104 , recall: 0.94\n",
      "0:\tlearn: 0.8816596\ttest: 0.8586957\tbest: 0.8586957 (0)\ttotal: 13.2ms\tremaining: 8m 49s\n",
      "Stopped by overfitting detector  (1000 iterations wait)\n",
      "\n",
      "bestTest = 0.9538461538\n",
      "bestIteration = 1446\n",
      "\n",
      "Shrink model to first 1447 iterations.\n",
      "[0]\tvalidation_0-logloss:0.69133\n",
      "[1500]\tvalidation_0-logloss:0.12583\n",
      "Number of splits trained 4 \n",
      "log_loss: 0.11659661359316618 F1_score: 0.9537325252385122 acc_score: 0.9540229885057471 , recall: 0.91\n",
      "0:\tlearn: 0.8789194\ttest: 0.8512821\tbest: 0.8512821 (0)\ttotal: 10.6ms\tremaining: 7m 2s\n",
      "Stopped by overfitting detector  (1000 iterations wait)\n",
      "\n",
      "bestTest = 0.94\n",
      "bestIteration = 2430\n",
      "\n",
      "Shrink model to first 2431 iterations.\n",
      "[0]\tvalidation_0-logloss:0.69129\n",
      "[1500]\tvalidation_0-logloss:0.15287\n",
      "Number of splits trained 5 \n",
      "log_loss: 0.13083237955685964 F1_score: 0.9578935985735375 acc_score: 0.9578544061302682 , recall: 0.95\n",
      "0:\tlearn: 0.8830798\ttest: 0.8449198\tbest: 0.8449198 (0)\ttotal: 9.34ms\tremaining: 6m 13s\n",
      "Stopped by overfitting detector  (1000 iterations wait)\n",
      "\n",
      "bestTest = 0.9641025641\n",
      "bestIteration = 1269\n",
      "\n",
      "Shrink model to first 1270 iterations.\n",
      "[0]\tvalidation_0-logloss:0.69120\n",
      "[1500]\tvalidation_0-logloss:0.14118\n",
      "Number of splits trained 6 \n",
      "log_loss: 0.11452858159030263 F1_score: 0.973041276742637 acc_score: 0.9731800766283525 , recall: 0.94\n",
      "0:\tlearn: 0.8828338\ttest: 0.8497409\tbest: 0.8497409 (0)\ttotal: 38ms\tremaining: 25m 19s\n",
      "Stopped by overfitting detector  (1000 iterations wait)\n",
      "\n",
      "bestTest = 0.942408377\n",
      "bestIteration = 1091\n",
      "\n",
      "Shrink model to first 1092 iterations.\n",
      "[0]\tvalidation_0-logloss:0.69130\n",
      "[1500]\tvalidation_0-logloss:0.13081\n",
      "Number of splits trained 7 \n",
      "log_loss: 0.1196260891772549 F1_score: 0.9457564073596261 acc_score: 0.946360153256705 , recall: 0.88\n",
      "0:\tlearn: 0.8818182\ttest: 0.8686869\tbest: 0.8686869 (0)\ttotal: 9.67ms\tremaining: 6m 26s\n",
      "Stopped by overfitting detector  (1000 iterations wait)\n",
      "\n",
      "bestTest = 0.9587628866\n",
      "bestIteration = 532\n",
      "\n",
      "Shrink model to first 533 iterations.\n",
      "[0]\tvalidation_0-logloss:0.69116\n",
      "[1500]\tvalidation_0-logloss:0.11410\n",
      "Number of splits trained 8 \n",
      "log_loss: 0.1129743635264991 F1_score: 0.9614437710320934 acc_score: 0.9616858237547893 , recall: 0.92\n",
      "0:\tlearn: 0.8731307\ttest: 0.9052632\tbest: 0.9052632 (0)\ttotal: 31.6ms\tremaining: 21m 5s\n",
      "Stopped by overfitting detector  (1000 iterations wait)\n",
      "\n",
      "bestTest = 0.97\n",
      "bestIteration = 994\n",
      "\n",
      "Shrink model to first 995 iterations.\n",
      "[0]\tvalidation_0-logloss:0.69116\n",
      "[1500]\tvalidation_0-logloss:0.07436\n",
      "Number of splits trained 9 \n",
      "log_loss: 0.07916628152749493 F1_score: 0.9808607266243352 acc_score: 0.9808429118773946 , recall: 0.98\n",
      "0:\tlearn: 0.8783069\ttest: 0.8855721\tbest: 0.8855721 (0)\ttotal: 14.4ms\tremaining: 9m 34s\n",
      "Stopped by overfitting detector  (1000 iterations wait)\n",
      "\n",
      "bestTest = 0.9651741294\n",
      "bestIteration = 618\n",
      "\n",
      "Shrink model to first 619 iterations.\n",
      "[0]\tvalidation_0-logloss:0.69123\n",
      "[1500]\tvalidation_0-logloss:0.09970\n",
      "Number of splits trained 10 \n",
      "log_loss: 0.10696095153880182 F1_score: 0.9694046128750805 acc_score: 0.9693486590038314 , recall: 0.97\n",
      "0:\tlearn: 0.8816794\ttest: 0.8556701\tbest: 0.8556701 (0)\ttotal: 10ms\tremaining: 6m 41s\n",
      "Stopped by overfitting detector  (1000 iterations wait)\n",
      "\n",
      "bestTest = 0.9417475728\n",
      "bestIteration = 600\n",
      "\n",
      "Shrink model to first 601 iterations.\n",
      "[0]\tvalidation_0-logloss:0.69138\n",
      "[1500]\tvalidation_0-logloss:0.16715\n",
      "Number of splits trained 11 \n",
      "log_loss: 0.16048786850760322 F1_score: 0.9504803153978566 acc_score: 0.9501915708812261 , recall: 0.97\n",
      "0:\tlearn: 0.8806818\ttest: 0.8695652\tbest: 0.8695652 (0)\ttotal: 9.92ms\tremaining: 6m 36s\n",
      "Stopped by overfitting detector  (1000 iterations wait)\n",
      "\n",
      "bestTest = 0.9690721649\n",
      "bestIteration = 863\n",
      "\n",
      "Shrink model to first 864 iterations.\n",
      "[0]\tvalidation_0-logloss:0.69126\n",
      "[1500]\tvalidation_0-logloss:0.11641\n",
      "Number of splits trained 12 \n",
      "log_loss: 0.10305514268018941 F1_score: 0.9691023289530659 acc_score: 0.9692307692307692 , recall: 0.9393939393939394\n",
      " F1_SCORE: 0.9638220257740704 | LOGLOSS_SCORE: 0.11231116587338714  Recall: 0.9440740740740742 , ACC: 0.963910993221338\n",
      "----------------------Done--------------------\n"
     ]
    }
   ],
   "source": [
    "def PIPELINE1(ytrain_label, fold_no=20, save_model=False):\n",
    "    seed = 2021 # seed\n",
    "    skf = model_selection.StratifiedKFold(n_splits=fold_no, shuffle=True, random_state=seed) # for cross validation\n",
    "    scores = { 'F1_SCORE':[], 'LOG_SCORE':[], 'recall':[],'ACC':[]}\n",
    "    preds= []\n",
    "\n",
    "    ratio1 = 0.5\n",
    "    ratio2 = 0.5\n",
    "\n",
    "    X_ , y_ = train_df[feat_cols].fillna(np.inf).replace(np.NAN , np.inf) , train_df['Is_disrupt'].astype(int)\n",
    "    test_new = test_cmod_df[feat_cols].fillna(np.inf).replace(np.NAN , np.inf)\n",
    "\n",
    "    #creating a for loop for the kfold\n",
    "    i = 1\n",
    "    for train, test_ in skf.split(X_, y_ ):\n",
    "        x_train, x_test, y_train, y_test = X_.iloc[train], X_.iloc[test_], y_.iloc[train], y_.iloc[test_]# spliting the data\n",
    "\n",
    "        global estimator1 , estimator2\n",
    "        \n",
    "        estimator1 =  catb.CatBoostClassifier(iterations=40000,  has_time=True ,bootstrap_type='No',random_strength=0,\n",
    "                                   learning_rate=0.011,\n",
    "                                   use_best_model=True,\n",
    "                                   reg_lambda=6,random_seed=39838,        \n",
    "                                   eval_metric='F1',\n",
    "                                   early_stopping_rounds=1000, verbose=True )\n",
    "                                      \n",
    "        estimator1.fit(x_train, y_train , eval_set=[(x_test, y_test)]  , verbose= 5000 ) \n",
    "\n",
    "\n",
    "        estimator2 =   xgb.XGBClassifier(learning_rate=0.0023,n_estimators=1501,random_state=42,missing = np.inf,\n",
    "                                    scale_pos_weight=1.2, max_depth=40, reg_lambda=0.8) \n",
    "\n",
    "        estimator2.fit(x_train, y_train  ,eval_set=[(x_test, y_test)]  , verbose= 5000 )\n",
    "\n",
    "\n",
    "            # save model\n",
    "        if save_model:\n",
    "            joblib.dump(estimator1, f'{models_path}/catb{i}.pkl')\n",
    "            joblib.dump(estimator2, f'{models_path}/xgb{i}.pkl')\n",
    "\n",
    "            # load model\n",
    "            estimator1 = joblib.load(f'{models_path}/catb{i}.pkl')\n",
    "            estimator2 = joblib.load(f'{models_path}/xgb{i}.pkl')\n",
    "\n",
    "        pred1 = estimator1.predict_proba(test_new)[:, 1] # making predictions for test\n",
    "        pred2 = estimator2.predict_proba(test_new)[:, 1] # making predictions for test\n",
    "        \n",
    "        print('Number of splits trained {} '.format(i))\n",
    "        pred = pred1*ratio1 +pred2*ratio2 \n",
    "\n",
    "        valid_probs = estimator1.predict_proba(x_test)[:, 1]*ratio1 + estimator2.predict_proba(x_test)[:, 1]*ratio2 #+ estimator3.predict_proba(x_test)[:, 1]*ratio3\n",
    "        valid_preds = [0 if i<0.51 else 1 for i in valid_probs]\n",
    "\n",
    "        f1_score_ = metrics.f1_score(y_test, valid_preds ,average='weighted')\n",
    "        log_score = metrics.log_loss(y_test, valid_probs)\n",
    "        recallscore = metrics.recall_score(y_test, valid_preds) # checking the accuracy\n",
    "        ACCscore = metrics.accuracy_score(y_test, valid_preds) # checking the accuracy\n",
    "\n",
    "        print(f'log_loss: {log_score} F1_score: {f1_score_} acc_score: {ACCscore} , recall: {recallscore}')\n",
    "\n",
    "        scores['LOG_SCORE'].append(log_score)\n",
    "        scores['F1_SCORE'].append(f1_score_)\n",
    "        scores['recall'].append(recallscore)\n",
    "        scores['ACC'].append(ACCscore)\n",
    "\n",
    "        preds.append(pred)\n",
    "        i+=1\n",
    "\n",
    "    # fro the final score since predict was used, find mean over all folds used to group the predictions\n",
    "    print(f\" F1_SCORE: { np.mean(scores['F1_SCORE']) } | LOGLOSS_SCORE: { np.mean(scores['LOG_SCORE']) }  Recall: {np.mean(scores['recall'])} , ACC: {np.mean(scores['ACC'])}\" )\n",
    "    preds_mean = np.mean(preds, axis=0)\n",
    "    return preds_mean\n",
    "\n",
    "# lb \n",
    "final_df = pd.DataFrame({'Shot_list':test_cmod_df.Shot_list.values} ) # 'Is_disrupt':submit_df.Is_disrupt.values\n",
    "\n",
    "final_targs = 'Is_disrupt'\n",
    "\n",
    "for i in tqdm([final_targs]):\n",
    "    final_df[i] = PIPELINE1(i ,  fold_no=12, save_model=True)\n",
    "\n",
    "final_df['preds'] = final_df['Is_disrupt'].values\n",
    "final_df['Is_disrupt'] =  [0 if i<0.51 else 1 for i in final_df['preds'].values]\n",
    "\n",
    "final_df[['Shot_list' , 'Is_disrupt']].to_csv(f'{files_path}/{CFG.V}_MMD_PIPELINE1_{CFG.sub_no}.csv', index=False)\n",
    "print('----------------------Done--------------------')"
   ]
  },
  {
   "cell_type": "code",
   "execution_count": 25,
   "metadata": {},
   "outputs": [
    {
     "data": {
      "text/plain": [
       "0    288\n",
       "1    125\n",
       "Name: Is_disrupt, dtype: int64"
      ]
     },
     "execution_count": 25,
     "metadata": {},
     "output_type": "execute_result"
    }
   ],
   "source": [
    "final_df['Is_disrupt'].value_counts()"
   ]
  }
 ],
 "metadata": {
  "kernelspec": {
   "display_name": "Python 3.10.8 ('base')",
   "language": "python",
   "name": "python3"
  },
  "language_info": {
   "codemirror_mode": {
    "name": "ipython",
    "version": 3
   },
   "file_extension": ".py",
   "mimetype": "text/x-python",
   "name": "python",
   "nbconvert_exporter": "python",
   "pygments_lexer": "ipython3",
   "version": "3.10.8"
  },
  "orig_nbformat": 4,
  "vscode": {
   "interpreter": {
    "hash": "7e761240ad8fca15c82e1ef93304032515de4391a3be4c44e86c81a0ba29a965"
   }
  }
 },
 "nbformat": 4,
 "nbformat_minor": 2
}
